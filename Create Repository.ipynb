{
 "cells": [
  {
   "cell_type": "markdown",
   "id": "f2dfdcf5-9eed-44f5-a2b8-694832ba3df9",
   "metadata": {},
   "source": [
    "CREATE\n",
    "Me:\n",
    "\tHow do I initialize a github repository on my computer?  \n",
    "\tI would like to have README.md and .gitignore files.  \n",
    "\tThen, I would like to push this repository onto github.  \n",
    "\tThe repository name will be world_weather_analysis.  \n",
    "\tI would like the repository to be located on github at https://github.com/jerryevalentine/world_weather_analysis.\n",
    "\n",
    "ChatGPT\n",
    "gh auth login\n",
    "gh repo create Github_Cheat_Sheet --public"
   ]
  }
 ],
 "metadata": {
  "kernelspec": {
   "display_name": "Python 3 (ipykernel)",
   "language": "python",
   "name": "python3"
  },
  "language_info": {
   "codemirror_mode": {
    "name": "ipython",
    "version": 3
   },
   "file_extension": ".py",
   "mimetype": "text/x-python",
   "name": "python",
   "nbconvert_exporter": "python",
   "pygments_lexer": "ipython3",
   "version": "3.11.5"
  }
 },
 "nbformat": 4,
 "nbformat_minor": 5
}
